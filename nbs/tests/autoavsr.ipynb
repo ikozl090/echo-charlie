{
  "cells": [
    {
      "cell_type": "markdown",
      "metadata": {
        "id": "89tk8KwgJIEX"
      },
      "source": [
        "# Auto-AVSR Tutorial\n",
        "**Authors**: [Pingchuan Ma](https://mpc001.github.io/), [Alexandros Haliassos](https://dblp.org/pid/257/3052.html), [Adriana Fernandez-Lopez](https://scholar.google.com/citations?user=DiVeQHkAAAAJ), [Honglie Chen](https://scholar.google.com/citations?user=HPwdvwEAAAAJ), [Stavros Petridis](https://ibug.doc.ic.ac.uk/people/spetridis), [Maja Pantic](https://ibug.doc.ic.ac.uk/people/mpantic).\n",
        "\n",
        "This tutorial shows how to use Auto-AVSR model to perform speech recognition (ASR, VSR, and AV-ASR), crop mouth ROIs or extract visual speech features.\n",
        "\n",
        "**Disclaimer**: Please note that both the VSR model and AV-ASR model have been trained with videos that were pre-processed by RetinaFace. For the purpose of improving inference speed, we use mediapipe instead."
      ]
    },
    {
      "cell_type": "code",
      "execution_count": null,
      "metadata": {},
      "outputs": [],
      "source": [
        "from EchoCharlie.echo_vsr import VSRInferencePipeline"
      ]
    },
    {
      "cell_type": "code",
      "execution_count": null,
      "metadata": {
        "id": "4l3pLd5YjyuZ"
      },
      "outputs": [],
      "source": [
        "modality = \"video\"\n",
        "model_conf = \"models/LRS3_V_WER19.1/model.json\"\n",
        "model_path = \"models/LRS3_V_WER19.1/model.pth\"\n",
        "\n",
        "pipeline = VSRInferencePipeline(modality, model_path, model_conf, face_track=True)"
      ]
    },
    {
      "cell_type": "code",
      "execution_count": null,
      "metadata": {
        "id": "HeWC64v3k0au"
      },
      "outputs": [],
      "source": [
        "transcript = pipeline(\"/Users/vishnou/Documents/echo-charlie/data/videos/obama_1_one_word_error.mp4\")\n",
        "print(transcript)"
      ]
    }
  ],
  "metadata": {
    "accelerator": "GPU",
    "colab": {
      "provenance": []
    },
    "kernelspec": {
      "display_name": ".echo_charlie (3.11.14)",
      "language": "python",
      "name": "python3"
    },
    "language_info": {
      "codemirror_mode": {
        "name": "ipython",
        "version": 3
      },
      "file_extension": ".py",
      "mimetype": "text/x-python",
      "name": "python",
      "nbconvert_exporter": "python",
      "pygments_lexer": "ipython3",
      "version": "3.11.14"
    }
  },
  "nbformat": 4,
  "nbformat_minor": 0
}

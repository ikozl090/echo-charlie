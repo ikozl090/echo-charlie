{
 "cells": [
  {
   "cell_type": "code",
   "execution_count": 1,
   "id": "084ce662",
   "metadata": {},
   "outputs": [],
   "source": [
    "import os \n",
    "os.chdir('../..')"
   ]
  },
  {
   "cell_type": "code",
   "execution_count": 7,
   "id": "91e3d741",
   "metadata": {},
   "outputs": [],
   "source": [
    "from EchoCharlie import EchoCharlie, EchoDB\n",
    "\n",
    "echo_db = EchoDB() \n",
    "\n",
    "echo_db.add_embedding_dir(\"data/embeddings/video_frames\")"
   ]
  },
  {
   "cell_type": "code",
   "execution_count": 9,
   "id": "ceb1cd29",
   "metadata": {},
   "outputs": [
    {
     "data": {
      "text/plain": [
       "array([-3.50823641e-01, -6.38840318e-01, -6.81078911e-01,  1.94621897e+00,\n",
       "       -6.84644282e-01, -7.04550683e-01,  3.73486400e-01,  2.05350280e-01,\n",
       "       -2.70367146e-01, -6.89781785e-01, -8.24399650e-01, -9.03559327e-01,\n",
       "       -2.07140255e+00,  2.26199329e-01, -5.70303798e-01, -2.22670245e+00,\n",
       "        2.34636843e-01,  1.55403614e-02, -1.95903993e+00,  1.15774892e-01,\n",
       "        1.02399051e+00, -1.15588510e+00,  1.61054766e+00, -1.29124808e+00,\n",
       "       -2.01948196e-01, -8.47921669e-01, -5.31720281e-01, -1.95397794e-01,\n",
       "        2.26585650e+00, -2.47653678e-01, -1.59355044e+00,  8.09726715e-01,\n",
       "       -1.96605551e+00,  1.13005733e+00,  2.81453818e-01, -1.12085116e+00,\n",
       "       -1.14799333e+00,  1.84813887e-01, -9.75451052e-01, -1.70083618e+00,\n",
       "       -7.55000830e-01,  5.65122724e-01, -2.15339828e+00, -9.75103796e-01,\n",
       "       -4.67003465e-01, -2.38502169e+00,  5.91499448e-01, -9.95874703e-02,\n",
       "       -1.20578706e-03, -1.33560523e-01,  1.59533173e-01, -6.22038841e-01,\n",
       "        7.60533333e-01, -1.32864439e+00,  6.12754345e-01, -2.50078384e-02,\n",
       "        1.40254819e+00,  1.90705001e-01,  1.75718442e-01, -2.96230704e-01,\n",
       "       -2.07448316e+00, -4.65418637e-01, -5.24824262e-01,  2.51456648e-02,\n",
       "       -7.28325427e-01,  2.39876366e+00,  1.05531025e+00,  2.63209510e+00,\n",
       "       -6.54655933e-01, -3.43769342e-02, -7.27296710e-01, -2.31711775e-01,\n",
       "        6.32115543e-01, -3.27383690e-02,  9.87242639e-01,  2.11572504e+00,\n",
       "       -5.18227935e-01,  4.44241703e-01, -1.56131697e+00, -1.51007783e+00,\n",
       "       -8.28756452e-01,  1.10233235e+00, -2.16835809e+00, -2.28228498e+00,\n",
       "        1.63177297e-01,  7.46936321e-01, -1.30618882e+00, -9.07954693e-01,\n",
       "       -5.12747645e-01,  1.30502820e+00,  2.09526801e+00,  9.45393622e-01,\n",
       "       -1.15591788e+00, -1.91617161e-01, -1.27279615e+00,  5.50713658e-01,\n",
       "       -4.98730272e-01,  6.10649467e-01,  1.51019502e+00, -5.52843153e-01,\n",
       "       -1.38762677e+00, -5.05471885e-01, -1.62268668e-01, -7.29106128e-01,\n",
       "        2.53069782e+00, -2.74398595e-01,  1.38615227e+00, -5.13186097e-01,\n",
       "        3.85693401e-01,  3.10788572e-01, -6.28455579e-01,  1.29422474e+00,\n",
       "       -8.10108781e-01, -8.14265668e-01, -3.03407256e-02,  4.85340744e-01,\n",
       "       -1.11829877e+00, -9.55212474e-01, -2.37885118e-01,  1.39082086e+00,\n",
       "        5.53809047e-01, -4.36447322e-01, -1.19685614e+00, -8.85891199e-01,\n",
       "        2.68811643e-01,  4.64277297e-01, -5.73787093e-01, -4.10728633e-01])"
      ]
     },
     "execution_count": 9,
     "metadata": {},
     "output_type": "execute_result"
    }
   ],
   "source": [
    "import pickle\n",
    "\n",
    "with open(\"data/embeddings/trump1.pkl\", 'rb') as file: \n",
    "    query_embedding = pickle.load(file)\n",
    "\n",
    "query_embedding"
   ]
  },
  {
   "cell_type": "code",
   "execution_count": 10,
   "id": "c49b7a6c",
   "metadata": {},
   "outputs": [
    {
     "data": {
      "text/plain": [
       "{'ids': [['trump_2', 'trudeau_1', 'trump_1']],\n",
       " 'embeddings': None,\n",
       " 'documents': [[None, None, None]],\n",
       " 'uris': None,\n",
       " 'included': ['metadatas', 'documents', 'distances'],\n",
       " 'data': None,\n",
       " 'metadatas': [[{'filename': 'trump_2.png'},\n",
       "   {'filename': 'trudeau_1.png'},\n",
       "   {'filename': 'trump_1.png'}]],\n",
       " 'distances': [[116.15692901611328, 157.3155059814453, 169.11233520507812]]}"
      ]
     },
     "execution_count": 10,
     "metadata": {},
     "output_type": "execute_result"
    }
   ],
   "source": [
    "echo_db.query_vdb(query_embedding)"
   ]
  }
 ],
 "metadata": {
  "kernelspec": {
   "display_name": "EchoCharlie",
   "language": "python",
   "name": "echocharlie"
  },
  "language_info": {
   "codemirror_mode": {
    "name": "ipython",
    "version": 3
   },
   "file_extension": ".py",
   "mimetype": "text/x-python",
   "name": "python",
   "nbconvert_exporter": "python",
   "pygments_lexer": "ipython3",
   "version": "3.11.7"
  }
 },
 "nbformat": 4,
 "nbformat_minor": 5
}

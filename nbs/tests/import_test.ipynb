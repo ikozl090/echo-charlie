{
 "cells": [
  {
   "cell_type": "code",
   "execution_count": 1,
   "id": "084ce662",
   "metadata": {},
   "outputs": [],
   "source": [
    "import os \n",
    "os.chdir('../..')"
   ]
  },
  {
   "cell_type": "code",
   "execution_count": null,
   "id": "91e3d741",
   "metadata": {},
   "outputs": [
    {
     "name": "stdout",
     "output_type": "stream",
     "text": [
      "DEBUG: Initializing database at: /Users/itaykozlov/Projects/echo-charlie/audio.db\n"
     ]
    }
   ],
   "source": [
    "from EchoCharlie import EchoCharlie, EchoDB\n",
    "\n",
    "echo_db = EchoDB() \n",
    "\n",
    "echo_db.add_embedding_dir(\"data/embeddings/video_frames\")"
   ]
  },
  {
   "cell_type": "code",
   "execution_count": 3,
   "id": "ceb1cd29",
   "metadata": {},
   "outputs": [],
   "source": [
    "import pickle\n",
    "\n",
    "with open(\"data/embeddings/trump1.pkl\", 'rb') as file: \n",
    "    query_embedding_1 = pickle.load(file)\n",
    "\n",
    "with open(\"data/embeddings/macron1.pkl\", 'rb') as file: \n",
    "    query_embedding_2 = pickle.load(file)\n",
    "\n",
    "query_embeddings = [query_embedding_1, query_embedding_2]"
   ]
  },
  {
   "cell_type": "code",
   "execution_count": 4,
   "id": "79c3d3de",
   "metadata": {},
   "outputs": [
    {
     "data": {
      "text/plain": [
       "[['trump_2', 'trudeau_1', 'trump_1'], ['macron_2', 'macron_1', 'trudeau_1']]"
      ]
     },
     "execution_count": 4,
     "metadata": {},
     "output_type": "execute_result"
    }
   ],
   "source": [
    "echo_db.query_vdb(query_embeddings)"
   ]
  },
  {
   "cell_type": "code",
   "execution_count": 5,
   "id": "c49b7a6c",
   "metadata": {},
   "outputs": [
    {
     "name": "stdout",
     "output_type": "stream",
     "text": [
      "DEBUG: Inserting file data: {'key': 'trump_2', 'path': '/Users/itaykozlov/Projects/echo-charlie/data/audio/output_trump.wav', 'duration': 14.8, 'samplerate': 24000, 'channels': 1, 'md5': 'e9844cc936c3e75e76ea8ceb12b62e86', 'created_at': 1761420482.227629}\n",
      "✓ Inserted file: trump_2\n",
      "DEBUG: Files with key 'trump_2': 1\n",
      "✓ Inserted 2 tags for trump_2\n",
      "\n",
      "📊 Audio Database Contents\n",
      "\n",
      "  Database path: /Users/itaykozlov/Projects/echo-charlie/audio.db\n",
      "  Key: intro\n",
      "  Path: /Users/itaykozlov/Projects/echo-charlie/data/audio/output_trump.wav\n",
      "  Duration: 14.80s\n",
      "  Sample Rate: 24000 Hz\n",
      "  Channels: 1\n",
      "  MD5: e9844cc936c3e75e76ea8ceb12b62e86\n",
      "  Tags: english, speech\n",
      "\n",
      "  Key: trump1\n",
      "  Path: /Users/itaykozlov/Projects/echo-charlie/data/audio/output_trump.wav\n",
      "  Duration: 14.80s\n",
      "  Sample Rate: 24000 Hz\n",
      "  Channels: 1\n",
      "  MD5: e9844cc936c3e75e76ea8ceb12b62e86\n",
      "  Tags: english, speech\n",
      "\n",
      "  Key: trump_2\n",
      "  Path: /Users/itaykozlov/Projects/echo-charlie/data/audio/output_trump.wav\n",
      "  Duration: 14.80s\n",
      "  Sample Rate: 24000 Hz\n",
      "  Channels: 1\n",
      "  MD5: e9844cc936c3e75e76ea8ceb12b62e86\n",
      "  Tags: english, speech\n",
      "\n"
     ]
    }
   ],
   "source": [
    "# Add files\n",
    "echo_db.index_audio(\"trump_2\", \"/Users/itaykozlov/Projects/echo-charlie/data/audio/output_trump.wav\", tags=[\"speech\", \"english\"])\n",
    "# echo_db.index_audio(\"rock_song\", \"/music/song42.mp3\", tags=[\"music\", \"rock\"])\n",
    "\n",
    "# Query examples\n",
    "echo_db.show_audio_db()"
   ]
  },
  {
   "cell_type": "code",
   "execution_count": 6,
   "id": "a7a9d752",
   "metadata": {},
   "outputs": [
    {
     "data": {
      "text/plain": [
       "[{'key': 'trump1',\n",
       "  'path': '/Users/itaykozlov/Projects/echo-charlie/data/audio/output_trump.wav',\n",
       "  'duration': 14.8,\n",
       "  'samplerate': 24000,\n",
       "  'channels': 1,\n",
       "  'md5': 'e9844cc936c3e75e76ea8ceb12b62e86',\n",
       "  'created_at': 1761414711.935303}]"
      ]
     },
     "execution_count": 6,
     "metadata": {},
     "output_type": "execute_result"
    }
   ],
   "source": [
    "echo_db.query_audio(key='trump1')"
   ]
  },
  {
   "cell_type": "code",
   "execution_count": 7,
   "id": "ea7e315c",
   "metadata": {},
   "outputs": [
    {
     "data": {
      "text/plain": [
       "[[{'key': 'trump_2',\n",
       "   'path': '/Users/itaykozlov/Projects/echo-charlie/data/audio/output_trump.wav',\n",
       "   'duration': 14.8,\n",
       "   'samplerate': 24000,\n",
       "   'channels': 1,\n",
       "   'md5': 'e9844cc936c3e75e76ea8ceb12b62e86',\n",
       "   'created_at': 1761420482.227629}]]"
      ]
     },
     "execution_count": 7,
     "metadata": {},
     "output_type": "execute_result"
    }
   ],
   "source": [
    "echo_db.get_audio_from_embedding(query_embeddings[0])"
   ]
  },
  {
   "cell_type": "code",
   "execution_count": 8,
   "id": "9ef34ad6",
   "metadata": {},
   "outputs": [],
   "source": [
    "embeddings, embedding_files, metadatas = echo_db.load_embedding_dir(\"data/embeddings/video_frames\")\n",
    "echo_db.add_embeddings(embeddings = embeddings, keys = embedding_files)"
   ]
  },
  {
   "cell_type": "code",
   "execution_count": 9,
   "id": "bddaf9c9",
   "metadata": {},
   "outputs": [
    {
     "name": "stdout",
     "output_type": "stream",
     "text": [
      "DEBUG: Number of Frames is 1\n",
      "MoviePy - Writing audio in audio_from_videotrudeau_1.wav\n"
     ]
    },
    {
     "name": "stderr",
     "output_type": "stream",
     "text": [
      "                                                        "
     ]
    },
    {
     "name": "stdout",
     "output_type": "stream",
     "text": [
      "MoviePy - Done.\n"
     ]
    },
    {
     "name": "stderr",
     "output_type": "stream",
     "text": [
      "\r"
     ]
    },
    {
     "name": "stdout",
     "output_type": "stream",
     "text": [
      "MoviePy - Writing audio in audio_from_videotrudeau_1.wav\n"
     ]
    },
    {
     "name": "stderr",
     "output_type": "stream",
     "text": [
      "                                                        "
     ]
    },
    {
     "name": "stdout",
     "output_type": "stream",
     "text": [
      "MoviePy - Done.\n"
     ]
    },
    {
     "name": "stderr",
     "output_type": "stream",
     "text": [
      "\r"
     ]
    },
    {
     "name": "stdout",
     "output_type": "stream",
     "text": [
      "DEBUG: Inserting file data: {'key': 'trudeau_1', 'path': '/Users/itaykozlov/Projects/echo-charlie/audio_from_videotrudeau_1.wav', 'duration': 19.39, 'samplerate': 44100, 'channels': 2, 'md5': '925e7d8f3e6eedae2548be9e524e7f5b', 'created_at': 1761420484.895675}\n",
      "✓ Inserted file: trudeau_1\n",
      "DEBUG: Files with key 'trudeau_1': 1\n"
     ]
    }
   ],
   "source": [
    "echo_db.push_video(video_path = '/Users/itaykozlov/Projects/echo-charlie/data/videos/trudeau_1.mp4', n_frames = 1)"
   ]
  },
  {
   "cell_type": "code",
   "execution_count": null,
   "id": "efb65afa",
   "metadata": {},
   "outputs": [
    {
     "name": "stdout",
     "output_type": "stream",
     "text": [
      "\n",
      "📊 Audio Database Contents\n",
      "\n",
      "  Database path: /Users/itaykozlov/Projects/echo-charlie/audio.db\n",
      "  Key: intro\n",
      "  Path: /Users/itaykozlov/Projects/echo-charlie/data/audio/output_trump.wav\n",
      "  Duration: 14.80s\n",
      "  Sample Rate: 24000 Hz\n",
      "  Channels: 1\n",
      "  MD5: e9844cc936c3e75e76ea8ceb12b62e86\n",
      "  Tags: english, speech\n",
      "\n",
      "  Key: trump1\n",
      "  Path: /Users/itaykozlov/Projects/echo-charlie/data/audio/output_trump.wav\n",
      "  Duration: 14.80s\n",
      "  Sample Rate: 24000 Hz\n",
      "  Channels: 1\n",
      "  MD5: e9844cc936c3e75e76ea8ceb12b62e86\n",
      "  Tags: english, speech\n",
      "\n",
      "  Key: trump_2\n",
      "  Path: /Users/itaykozlov/Projects/echo-charlie/data/audio/output_trump.wav\n",
      "  Duration: 14.80s\n",
      "  Sample Rate: 24000 Hz\n",
      "  Channels: 1\n",
      "  MD5: e9844cc936c3e75e76ea8ceb12b62e86\n",
      "  Tags: english, speech\n",
      "\n",
      "  Key: trudeau_1\n",
      "  Path: /Users/itaykozlov/Projects/echo-charlie/audio_from_videotrudeau_1.wav\n",
      "  Duration: 19.39s\n",
      "  Sample Rate: 44100 Hz\n",
      "  Channels: 2\n",
      "  MD5: 925e7d8f3e6eedae2548be9e524e7f5b\n",
      "  Tags: (none)\n",
      "\n"
     ]
    }
   ],
   "source": [
    "echo_db.show_audio_db()"
   ]
  },
  {
   "cell_type": "code",
   "execution_count": 12,
   "id": "d2814ef5",
   "metadata": {},
   "outputs": [
    {
     "data": {
      "text/plain": [
       "[[{'key': 'trudeau_1',\n",
       "   'path': '/Users/itaykozlov/Projects/echo-charlie/audio_from_videotrudeau_1.wav',\n",
       "   'duration': 19.39,\n",
       "   'samplerate': 44100,\n",
       "   'channels': 2,\n",
       "   'md5': '925e7d8f3e6eedae2548be9e524e7f5b',\n",
       "   'created_at': 1761420484.895675}]]"
      ]
     },
     "execution_count": 12,
     "metadata": {},
     "output_type": "execute_result"
    }
   ],
   "source": [
    "with open(\"data/embeddings/video_frames/trudeau_1.pkl\", 'rb') as file: \n",
    "    emb = pickle.load(file)\n",
    "\n",
    "echo_db.get_audio_from_embedding(emb)"
   ]
  }
 ],
 "metadata": {
  "kernelspec": {
   "display_name": "EchoCharlie",
   "language": "python",
   "name": "echocharlie"
  },
  "language_info": {
   "codemirror_mode": {
    "name": "ipython",
    "version": 3
   },
   "file_extension": ".py",
   "mimetype": "text/x-python",
   "name": "python",
   "nbconvert_exporter": "python",
   "pygments_lexer": "ipython3",
   "version": "3.11.7"
  }
 },
 "nbformat": 4,
 "nbformat_minor": 5
}

{
 "cells": [
  {
   "cell_type": "code",
   "execution_count": null,
   "id": "49b69357",
   "metadata": {},
   "outputs": [],
   "source": [
    "import os \n",
    "os.chdir('../..')"
   ]
  },
  {
   "cell_type": "code",
   "execution_count": null,
   "id": "e9860d24",
   "metadata": {},
   "outputs": [],
   "source": [
    "from EchoCharlie.echo_qwen import QwenModel"
   ]
  }
 ],
 "metadata": {
  "kernelspec": {
   "display_name": "boson-ai-hackathon (3.11.14)",
   "language": "python",
   "name": "python3"
  },
  "language_info": {
   "codemirror_mode": {
    "name": "ipython",
    "version": 3
   },
   "file_extension": ".py",
   "mimetype": "text/x-python",
   "name": "python",
   "nbconvert_exporter": "python",
   "pygments_lexer": "ipython3",
   "version": "3.11.14"
  }
 },
 "nbformat": 4,
 "nbformat_minor": 5
}

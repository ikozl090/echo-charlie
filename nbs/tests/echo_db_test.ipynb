{
 "cells": [
  {
   "cell_type": "code",
   "execution_count": 1,
   "id": "62ccd5c2",
   "metadata": {},
   "outputs": [],
   "source": [
    "import os \n",
    "os.chdir('../..')"
   ]
  },
  {
   "cell_type": "code",
   "execution_count": 2,
   "id": "a8f72e2b",
   "metadata": {},
   "outputs": [
    {
     "name": "stdout",
     "output_type": "stream",
     "text": [
      "DEBUG: Initializing database at: /Users/itaykozlov/Projects/echo-charlie/demo_audio.db\n"
     ]
    }
   ],
   "source": [
    "from EchoCharlie import EchoCharlie, EchoDB\n",
    "\n",
    "echo_db = EchoDB(db_path=\"./demo_db_1\", collection_name = \"demo_collection_1\", audio_db_name = \"demo_audio.db\") "
   ]
  },
  {
   "cell_type": "code",
   "execution_count": 3,
   "id": "62103283",
   "metadata": {},
   "outputs": [
    {
     "name": "stdout",
     "output_type": "stream",
     "text": [
      "\n",
      "📊 Audio Database Contents\n",
      "\n",
      "  Database path: /Users/itaykozlov/Projects/echo-charlie/demo_audio.db\n",
      "  No audio files in database.\n"
     ]
    }
   ],
   "source": [
    "echo_db.show_audio_db()"
   ]
  },
  {
   "cell_type": "code",
   "execution_count": 4,
   "id": "5c0ea40d",
   "metadata": {},
   "outputs": [
    {
     "name": "stdout",
     "output_type": "stream",
     "text": [
      "[{'name': 'trudeau_2_one_word_error', 'type': 'mp4'}, {'name': 'trudeau_3', 'type': 'mp4'}, {'name': 'obama_1_one_word_error', 'type': 'mp4'}, {'name': 'obama_ref', 'type': 'mp4'}, {'name': 'trudeau_1', 'type': 'mp4'}, {'name': 'trump_2', 'type': 'mp4'}, {'name': 'trump', 'type': 'mp4'}, {'name': 'obama_2_two_word_errors', 'type': 'mp4'}, {'name': 'obama_3_one_word_error', 'type': 'mp4'}, {'name': 'macron_ref', 'type': 'mp4'}, {'name': 'trump_3_long_one_word_error', 'type': 'mp4'}, {'name': 'trump_ref', 'type': 'mp4'}, {'name': 'macron_1', 'type': 'mp4'}]\n"
     ]
    }
   ],
   "source": [
    "import glob\n",
    "\n",
    "video_dir = 'data/videos'\n",
    "video_files = glob.glob(os.path.join(video_dir, '*'))\n",
    "\n",
    "video_names_types = []\n",
    "for filepath in video_files:\n",
    "    filename = os.path.basename(filepath)\n",
    "    name, ext = os.path.splitext(filename)\n",
    "    # Remove the leading dot from the file extension\n",
    "    ext = ext.lstrip('.')\n",
    "    video_names_types.append({'name': name, 'type': ext})\n",
    "\n",
    "print(video_names_types)"
   ]
  },
  {
   "cell_type": "code",
   "execution_count": 6,
   "id": "a6af8146",
   "metadata": {},
   "outputs": [
    {
     "name": "stdout",
     "output_type": "stream",
     "text": [
      "DEBUG: Number of Frames is 1\n",
      "MoviePy - Writing audio in audio_from_videotrudeau_2_one_word_error.wav\n"
     ]
    },
    {
     "name": "stderr",
     "output_type": "stream",
     "text": [
      "                                                        "
     ]
    },
    {
     "name": "stdout",
     "output_type": "stream",
     "text": [
      "MoviePy - Done.\n"
     ]
    },
    {
     "name": "stderr",
     "output_type": "stream",
     "text": [
      "\r"
     ]
    },
    {
     "name": "stdout",
     "output_type": "stream",
     "text": [
      "MoviePy - Writing audio in audio_from_videotrudeau_2_one_word_error.wav\n"
     ]
    },
    {
     "name": "stderr",
     "output_type": "stream",
     "text": [
      "                                                        "
     ]
    },
    {
     "name": "stdout",
     "output_type": "stream",
     "text": [
      "MoviePy - Done.\n"
     ]
    },
    {
     "name": "stderr",
     "output_type": "stream",
     "text": [
      "\r"
     ]
    },
    {
     "name": "stdout",
     "output_type": "stream",
     "text": [
      "DEBUG: Inserting file data: {'key': 'trudeau_2_one_word_error', 'path': '/Users/itaykozlov/Projects/echo-charlie/audio_from_videotrudeau_2_one_word_error.wav', 'duration': 19.52, 'samplerate': 44100, 'channels': 2, 'md5': '8cf13f78def509e2176a5cab0ec72d52', 'created_at': 1761421171.356716}\n",
      "✓ Inserted file: trudeau_2_one_word_error\n",
      "DEBUG: Files with key 'trudeau_2_one_word_error': 1\n",
      "DEBUG: Number of Frames is 1\n",
      "MoviePy - Writing audio in audio_from_videotrudeau_3.wav\n"
     ]
    },
    {
     "name": "stderr",
     "output_type": "stream",
     "text": [
      "                                                        "
     ]
    },
    {
     "name": "stdout",
     "output_type": "stream",
     "text": [
      "MoviePy - Done.\n"
     ]
    },
    {
     "name": "stderr",
     "output_type": "stream",
     "text": [
      "\r"
     ]
    },
    {
     "name": "stdout",
     "output_type": "stream",
     "text": [
      "MoviePy - Writing audio in audio_from_videotrudeau_3.wav\n"
     ]
    },
    {
     "name": "stderr",
     "output_type": "stream",
     "text": [
      "                                                        "
     ]
    },
    {
     "name": "stdout",
     "output_type": "stream",
     "text": [
      "MoviePy - Done.\n"
     ]
    },
    {
     "name": "stderr",
     "output_type": "stream",
     "text": [
      "\r"
     ]
    },
    {
     "name": "stdout",
     "output_type": "stream",
     "text": [
      "DEBUG: Inserting file data: {'key': 'trudeau_3', 'path': '/Users/itaykozlov/Projects/echo-charlie/audio_from_videotrudeau_3.wav', 'duration': 14.98, 'samplerate': 44100, 'channels': 2, 'md5': '9fbd8a97e8d9f1ba2f412165e57d7ebc', 'created_at': 1761421172.713921}\n",
      "✓ Inserted file: trudeau_3\n",
      "DEBUG: Files with key 'trudeau_3': 1\n",
      "DEBUG: Number of Frames is 1\n",
      "MoviePy - Writing audio in audio_from_videoobama_1_one_word_error.wav\n"
     ]
    },
    {
     "name": "stderr",
     "output_type": "stream",
     "text": [
      "                                                        "
     ]
    },
    {
     "name": "stdout",
     "output_type": "stream",
     "text": [
      "MoviePy - Done.\n"
     ]
    },
    {
     "name": "stderr",
     "output_type": "stream",
     "text": [
      "\r"
     ]
    },
    {
     "name": "stdout",
     "output_type": "stream",
     "text": [
      "MoviePy - Writing audio in audio_from_videoobama_1_one_word_error.wav\n"
     ]
    },
    {
     "name": "stderr",
     "output_type": "stream",
     "text": [
      "                                                        "
     ]
    },
    {
     "name": "stdout",
     "output_type": "stream",
     "text": [
      "MoviePy - Done.\n"
     ]
    },
    {
     "name": "stderr",
     "output_type": "stream",
     "text": [
      "\r"
     ]
    },
    {
     "name": "stdout",
     "output_type": "stream",
     "text": [
      "DEBUG: Inserting file data: {'key': 'obama_1_one_word_error', 'path': '/Users/itaykozlov/Projects/echo-charlie/audio_from_videoobama_1_one_word_error.wav', 'duration': 13.08, 'samplerate': 44100, 'channels': 2, 'md5': '226d2575332cd998f2d15f54968148b2', 'created_at': 1761421174.02073}\n",
      "✓ Inserted file: obama_1_one_word_error\n",
      "DEBUG: Files with key 'obama_1_one_word_error': 1\n",
      "DEBUG: Number of Frames is 1\n",
      "MoviePy - Writing audio in audio_from_videoobama_ref.wav\n"
     ]
    },
    {
     "name": "stderr",
     "output_type": "stream",
     "text": [
      "                                                        "
     ]
    },
    {
     "name": "stdout",
     "output_type": "stream",
     "text": [
      "MoviePy - Done.\n"
     ]
    },
    {
     "name": "stderr",
     "output_type": "stream",
     "text": [
      "\r"
     ]
    },
    {
     "name": "stdout",
     "output_type": "stream",
     "text": [
      "MoviePy - Writing audio in audio_from_videoobama_ref.wav\n"
     ]
    },
    {
     "name": "stderr",
     "output_type": "stream",
     "text": [
      "                                                        "
     ]
    },
    {
     "name": "stdout",
     "output_type": "stream",
     "text": [
      "MoviePy - Done.\n"
     ]
    },
    {
     "name": "stderr",
     "output_type": "stream",
     "text": [
      "\r"
     ]
    },
    {
     "name": "stdout",
     "output_type": "stream",
     "text": [
      "DEBUG: Inserting file data: {'key': 'obama_ref', 'path': '/Users/itaykozlov/Projects/echo-charlie/audio_from_videoobama_ref.wav', 'duration': 12.11, 'samplerate': 44100, 'channels': 2, 'md5': '1ac4947b81bf5e865a9736a1e06f9471', 'created_at': 1761421174.962123}\n",
      "✓ Inserted file: obama_ref\n",
      "DEBUG: Files with key 'obama_ref': 1\n",
      "DEBUG: Number of Frames is 1\n",
      "MoviePy - Writing audio in audio_from_videotrudeau_1.wav\n"
     ]
    },
    {
     "name": "stderr",
     "output_type": "stream",
     "text": [
      "                                                        "
     ]
    },
    {
     "name": "stdout",
     "output_type": "stream",
     "text": [
      "MoviePy - Done.\n"
     ]
    },
    {
     "name": "stderr",
     "output_type": "stream",
     "text": [
      "\r"
     ]
    },
    {
     "name": "stdout",
     "output_type": "stream",
     "text": [
      "MoviePy - Writing audio in audio_from_videotrudeau_1.wav\n"
     ]
    },
    {
     "name": "stderr",
     "output_type": "stream",
     "text": [
      "                                                        "
     ]
    },
    {
     "name": "stdout",
     "output_type": "stream",
     "text": [
      "MoviePy - Done.\n"
     ]
    },
    {
     "name": "stderr",
     "output_type": "stream",
     "text": [
      "\r"
     ]
    },
    {
     "name": "stdout",
     "output_type": "stream",
     "text": [
      "DEBUG: Inserting file data: {'key': 'trudeau_1', 'path': '/Users/itaykozlov/Projects/echo-charlie/audio_from_videotrudeau_1.wav', 'duration': 19.39, 'samplerate': 44100, 'channels': 2, 'md5': '925e7d8f3e6eedae2548be9e524e7f5b', 'created_at': 1761421176.2978501}\n",
      "✓ Inserted file: trudeau_1\n",
      "DEBUG: Files with key 'trudeau_1': 1\n",
      "DEBUG: Number of Frames is 1\n",
      "MoviePy - Writing audio in audio_from_videotrump_2.wav\n"
     ]
    },
    {
     "name": "stderr",
     "output_type": "stream",
     "text": [
      "                                                        "
     ]
    },
    {
     "name": "stdout",
     "output_type": "stream",
     "text": [
      "MoviePy - Done.\n"
     ]
    },
    {
     "name": "stderr",
     "output_type": "stream",
     "text": [
      "\r"
     ]
    },
    {
     "name": "stdout",
     "output_type": "stream",
     "text": [
      "MoviePy - Writing audio in audio_from_videotrump_2.wav\n"
     ]
    },
    {
     "name": "stderr",
     "output_type": "stream",
     "text": [
      "                                                        "
     ]
    },
    {
     "name": "stdout",
     "output_type": "stream",
     "text": [
      "MoviePy - Done.\n"
     ]
    },
    {
     "name": "stderr",
     "output_type": "stream",
     "text": [
      "\r"
     ]
    },
    {
     "name": "stdout",
     "output_type": "stream",
     "text": [
      "DEBUG: Inserting file data: {'key': 'trump_2', 'path': '/Users/itaykozlov/Projects/echo-charlie/audio_from_videotrump_2.wav', 'duration': 18.28, 'samplerate': 44100, 'channels': 2, 'md5': 'a03e459ea707ca0dd0714bc2ea23a408', 'created_at': 1761421177.673464}\n",
      "✓ Inserted file: trump_2\n",
      "DEBUG: Files with key 'trump_2': 1\n",
      "DEBUG: Number of Frames is 1\n",
      "Error in index_audio: Audio file not found: audio_from_videotrump.wav\n"
     ]
    },
    {
     "name": "stderr",
     "output_type": "stream",
     "text": [
      "Traceback (most recent call last):\n",
      "  File \"/Users/itaykozlov/Projects/echo-charlie/EchoCharlie/echo_db.py\", line 133, in index_audio\n",
      "    raise FileNotFoundError(f\"Audio file not found: {path}\")\n",
      "FileNotFoundError: Audio file not found: audio_from_videotrump.wav\n"
     ]
    },
    {
     "ename": "FileNotFoundError",
     "evalue": "Audio file not found: audio_from_videotrump.wav",
     "output_type": "error",
     "traceback": [
      "\u001b[31m---------------------------------------------------------------------------\u001b[39m",
      "\u001b[31mFileNotFoundError\u001b[39m                         Traceback (most recent call last)",
      "\u001b[36mCell\u001b[39m\u001b[36m \u001b[39m\u001b[32mIn[6]\u001b[39m\u001b[32m, line 2\u001b[39m\n\u001b[32m      1\u001b[39m \u001b[38;5;28;01mfor\u001b[39;00m video_name_type \u001b[38;5;129;01min\u001b[39;00m video_names_types:\n\u001b[32m----> \u001b[39m\u001b[32m2\u001b[39m     \u001b[43mecho_db\u001b[49m\u001b[43m.\u001b[49m\u001b[43mpush_video\u001b[49m\u001b[43m(\u001b[49m\u001b[43mvideo_path\u001b[49m\u001b[43m \u001b[49m\u001b[43m=\u001b[49m\u001b[43m \u001b[49m\u001b[33;43mf\u001b[39;49m\u001b[33;43m\"\u001b[39;49m\u001b[38;5;132;43;01m{\u001b[39;49;00m\u001b[43mvideo_dir\u001b[49m\u001b[38;5;132;43;01m}\u001b[39;49;00m\u001b[33;43m/\u001b[39;49m\u001b[38;5;132;43;01m{\u001b[39;49;00m\u001b[43mvideo_name_type\u001b[49m\u001b[43m[\u001b[49m\u001b[33;43m'\u001b[39;49m\u001b[33;43mname\u001b[39;49m\u001b[33;43m'\u001b[39;49m\u001b[43m]\u001b[49m\u001b[38;5;132;43;01m}\u001b[39;49;00m\u001b[33;43m.\u001b[39;49m\u001b[38;5;132;43;01m{\u001b[39;49;00m\u001b[43mvideo_name_type\u001b[49m\u001b[43m[\u001b[49m\u001b[33;43m'\u001b[39;49m\u001b[33;43mtype\u001b[39;49m\u001b[33;43m'\u001b[39;49m\u001b[43m]\u001b[49m\u001b[38;5;132;43;01m}\u001b[39;49;00m\u001b[33;43m\"\u001b[39;49m\u001b[43m,\u001b[49m\u001b[43m \u001b[49m\u001b[43mn_frames\u001b[49m\u001b[43m \u001b[49m\u001b[43m=\u001b[49m\u001b[43m \u001b[49m\u001b[32;43m1\u001b[39;49m\u001b[43m)\u001b[49m\n",
      "\u001b[36mFile \u001b[39m\u001b[32m~/Projects/echo-charlie/EchoCharlie/echo_db.py:54\u001b[39m, in \u001b[36mEchoDB.push_video\u001b[39m\u001b[34m(self, video_path, n_frames, audio_file_dir)\u001b[39m\n\u001b[32m     51\u001b[39m embeddings, audio_path, key = gf.forward(video_path, out_audio_path = audio_file_dir)\n\u001b[32m     53\u001b[39m \u001b[38;5;28mself\u001b[39m.add_embeddings(embeddings = embeddings, keys = [key \u001b[38;5;28;01mfor\u001b[39;00m k \u001b[38;5;129;01min\u001b[39;00m embeddings])\n\u001b[32m---> \u001b[39m\u001b[32m54\u001b[39m \u001b[38;5;28;43mself\u001b[39;49m\u001b[43m.\u001b[49m\u001b[43mindex_audio\u001b[49m\u001b[43m(\u001b[49m\u001b[43mpath\u001b[49m\u001b[43m \u001b[49m\u001b[43m=\u001b[49m\u001b[43m \u001b[49m\u001b[43maudio_path\u001b[49m\u001b[43m,\u001b[49m\u001b[43m \u001b[49m\u001b[43mkey\u001b[49m\u001b[43m \u001b[49m\u001b[43m=\u001b[49m\u001b[43m \u001b[49m\u001b[43mkey\u001b[49m\u001b[43m)\u001b[49m\n",
      "\u001b[36mFile \u001b[39m\u001b[32m~/Projects/echo-charlie/EchoCharlie/echo_db.py:133\u001b[39m, in \u001b[36mEchoDB.index_audio\u001b[39m\u001b[34m(self, key, path, tags)\u001b[39m\n\u001b[32m    131\u001b[39m p = Path(path)\n\u001b[32m    132\u001b[39m \u001b[38;5;28;01mif\u001b[39;00m \u001b[38;5;129;01mnot\u001b[39;00m p.exists():\n\u001b[32m--> \u001b[39m\u001b[32m133\u001b[39m     \u001b[38;5;28;01mraise\u001b[39;00m \u001b[38;5;167;01mFileNotFoundError\u001b[39;00m(\u001b[33mf\u001b[39m\u001b[33m\"\u001b[39m\u001b[33mAudio file not found: \u001b[39m\u001b[38;5;132;01m{\u001b[39;00mpath\u001b[38;5;132;01m}\u001b[39;00m\u001b[33m\"\u001b[39m)\n\u001b[32m    135\u001b[39m \u001b[38;5;66;03m# Read audio metadata using mutagen first, fallback to scipy\u001b[39;00m\n\u001b[32m    136\u001b[39m duration = \u001b[38;5;28;01mNone\u001b[39;00m\n",
      "\u001b[31mFileNotFoundError\u001b[39m: Audio file not found: audio_from_videotrump.wav"
     ]
    }
   ],
   "source": [
    "for video_name_type in video_names_types:\n",
    "    echo_db.push_video(video_path = f\"{video_dir}/{video_name_type['name']}.{video_name_type['type']}\", n_frames = 1)"
   ]
  },
  {
   "cell_type": "code",
   "execution_count": 7,
   "id": "4c7d68f9",
   "metadata": {},
   "outputs": [
    {
     "name": "stdout",
     "output_type": "stream",
     "text": [
      "\n",
      "📊 Audio Database Contents\n",
      "\n",
      "  Database path: /Users/itaykozlov/Projects/echo-charlie/demo_audio.db\n",
      "  Key: trudeau_2_one_word_error\n",
      "  Path: /Users/itaykozlov/Projects/echo-charlie/audio_from_videotrudeau_2_one_word_error.wav\n",
      "  Duration: 19.52s\n",
      "  Sample Rate: 44100 Hz\n",
      "  Channels: 2\n",
      "  MD5: 8cf13f78def509e2176a5cab0ec72d52\n",
      "  Tags: (none)\n",
      "\n",
      "  Key: trudeau_3\n",
      "  Path: /Users/itaykozlov/Projects/echo-charlie/audio_from_videotrudeau_3.wav\n",
      "  Duration: 14.98s\n",
      "  Sample Rate: 44100 Hz\n",
      "  Channels: 2\n",
      "  MD5: 9fbd8a97e8d9f1ba2f412165e57d7ebc\n",
      "  Tags: (none)\n",
      "\n",
      "  Key: obama_1_one_word_error\n",
      "  Path: /Users/itaykozlov/Projects/echo-charlie/audio_from_videoobama_1_one_word_error.wav\n",
      "  Duration: 13.08s\n",
      "  Sample Rate: 44100 Hz\n",
      "  Channels: 2\n",
      "  MD5: 226d2575332cd998f2d15f54968148b2\n",
      "  Tags: (none)\n",
      "\n",
      "  Key: obama_ref\n",
      "  Path: /Users/itaykozlov/Projects/echo-charlie/audio_from_videoobama_ref.wav\n",
      "  Duration: 12.11s\n",
      "  Sample Rate: 44100 Hz\n",
      "  Channels: 2\n",
      "  MD5: 1ac4947b81bf5e865a9736a1e06f9471\n",
      "  Tags: (none)\n",
      "\n",
      "  Key: trudeau_1\n",
      "  Path: /Users/itaykozlov/Projects/echo-charlie/audio_from_videotrudeau_1.wav\n",
      "  Duration: 19.39s\n",
      "  Sample Rate: 44100 Hz\n",
      "  Channels: 2\n",
      "  MD5: 925e7d8f3e6eedae2548be9e524e7f5b\n",
      "  Tags: (none)\n",
      "\n",
      "  Key: trump_2\n",
      "  Path: /Users/itaykozlov/Projects/echo-charlie/audio_from_videotrump_2.wav\n",
      "  Duration: 18.28s\n",
      "  Sample Rate: 44100 Hz\n",
      "  Channels: 2\n",
      "  MD5: a03e459ea707ca0dd0714bc2ea23a408\n",
      "  Tags: (none)\n",
      "\n"
     ]
    }
   ],
   "source": [
    "echo_db.show_audio_db()"
   ]
  },
  {
   "cell_type": "code",
   "execution_count": 11,
   "id": "4dd5b539",
   "metadata": {},
   "outputs": [
    {
     "data": {
      "text/plain": [
       "[[{'key': 'trudeau_1',\n",
       "   'path': '/Users/itaykozlov/Projects/echo-charlie/audio_from_videotrudeau_1.wav',\n",
       "   'duration': 19.39,\n",
       "   'samplerate': 44100,\n",
       "   'channels': 2,\n",
       "   'md5': '925e7d8f3e6eedae2548be9e524e7f5b',\n",
       "   'created_at': 1761421176.2978501}]]"
      ]
     },
     "execution_count": 11,
     "metadata": {},
     "output_type": "execute_result"
    }
   ],
   "source": [
    "import pickle\n",
    "\n",
    "with open(\"data/embeddings/macron_1.pkl\", 'rb') as file: \n",
    "    emb = pickle.load(file)\n",
    "\n",
    "echo_db.get_audio_from_embedding(emb)"
   ]
  }
 ],
 "metadata": {
  "kernelspec": {
   "display_name": "EchoCharlie",
   "language": "python",
   "name": "echocharlie"
  },
  "language_info": {
   "codemirror_mode": {
    "name": "ipython",
    "version": 3
   },
   "file_extension": ".py",
   "mimetype": "text/x-python",
   "name": "python",
   "nbconvert_exporter": "python",
   "pygments_lexer": "ipython3",
   "version": "3.11.7"
  }
 },
 "nbformat": 4,
 "nbformat_minor": 5
}

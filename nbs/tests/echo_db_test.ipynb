{
 "cells": [
  {
   "cell_type": "code",
   "execution_count": 1,
   "id": "62ccd5c2",
   "metadata": {},
   "outputs": [],
   "source": [
    "import os \n",
    "os.chdir('../..')"
   ]
  },
  {
   "cell_type": "code",
   "execution_count": 2,
   "id": "a8f72e2b",
   "metadata": {},
   "outputs": [
    {
     "name": "stderr",
     "output_type": "stream",
     "text": [
      "/Users/itaykozlov/Projects/echo-charlie/.venv/lib/python3.11/site-packages/imageio_ffmpeg/_utils.py:6: UserWarning: pkg_resources is deprecated as an API. See https://setuptools.pypa.io/en/latest/pkg_resources.html. The pkg_resources package is slated for removal as early as 2025-11-30. Refrain from using this package or pin to Setuptools<81.\n",
      "  from pkg_resources import resource_filename\n"
     ]
    },
    {
     "name": "stdout",
     "output_type": "stream",
     "text": [
      "DEBUG: Initializing database at: /Users/itaykozlov/Projects/echo-charlie/echo_db/audio.db\n"
     ]
    }
   ],
   "source": [
    "from EchoCharlie import EchoCharlie, EchoDB\n",
    "\n",
    "echo_db = EchoDB() "
   ]
  },
  {
   "cell_type": "code",
   "execution_count": 3,
   "id": "62103283",
   "metadata": {},
   "outputs": [
    {
     "name": "stdout",
     "output_type": "stream",
     "text": [
      "\n",
      "📊 Audio Database Contents\n",
      "\n",
      "  Database path: /Users/itaykozlov/Projects/echo-charlie/echo_db/audio.db\n",
      "  No audio files in database.\n"
     ]
    }
   ],
   "source": [
    "echo_db.show_audio_db()"
   ]
  },
  {
   "cell_type": "code",
   "execution_count": 4,
   "id": "5c0ea40d",
   "metadata": {},
   "outputs": [
    {
     "name": "stdout",
     "output_type": "stream",
     "text": [
      "[{'name': 'obama_ref', 'type': 'mp4'}, {'name': 'trudeau_ref', 'type': 'mp4'}, {'name': 'macron_ref', 'type': 'mp4'}, {'name': 'trump_ref', 'type': 'mp4'}]\n"
     ]
    }
   ],
   "source": [
    "import glob\n",
    "\n",
    "video_dir = 'data/videos'\n",
    "video_files = glob.glob(os.path.join(video_dir, '*'))\n",
    "\n",
    "video_names_types = []\n",
    "for filepath in video_files:\n",
    "    filename = os.path.basename(filepath)\n",
    "    if 'ref' in filename:\n",
    "        name, ext = os.path.splitext(filename)\n",
    "        # Remove the leading dot from the file extension\n",
    "        ext = ext.lstrip('.')\n",
    "        video_names_types.append({'name': name, 'type': ext})\n",
    "\n",
    "print(video_names_types)"
   ]
  },
  {
   "cell_type": "code",
   "execution_count": 5,
   "id": "a6af8146",
   "metadata": {},
   "outputs": [
    {
     "name": "stdout",
     "output_type": "stream",
     "text": [
      "DEBUG: Number of Frames is 1\n",
      "MoviePy - Writing audio in ./echo_db/records/obama_ref.wav\n"
     ]
    },
    {
     "name": "stderr",
     "output_type": "stream",
     "text": [
      "                                                        "
     ]
    },
    {
     "name": "stdout",
     "output_type": "stream",
     "text": [
      "MoviePy - Done.\n"
     ]
    },
    {
     "name": "stderr",
     "output_type": "stream",
     "text": [
      "\r"
     ]
    },
    {
     "name": "stdout",
     "output_type": "stream",
     "text": [
      "MoviePy - Writing audio in ./echo_db/records/obama_ref.wav\n"
     ]
    },
    {
     "name": "stderr",
     "output_type": "stream",
     "text": [
      "                                                        "
     ]
    },
    {
     "name": "stdout",
     "output_type": "stream",
     "text": [
      "MoviePy - Done.\n"
     ]
    },
    {
     "name": "stderr",
     "output_type": "stream",
     "text": [
      "\r"
     ]
    },
    {
     "name": "stdout",
     "output_type": "stream",
     "text": [
      "DEBUG: Inserting file data: {'key': 'obama_ref', 'path': '/Users/itaykozlov/Projects/echo-charlie/echo_db/records/obama_ref.wav', 'duration': 12.11, 'samplerate': 44100, 'channels': 2, 'md5': 'bdbb607b6e174909acadb5a4e581eed1', 'created_at': 1761458579.781486}\n",
      "✓ Inserted file: obama_ref\n",
      "DEBUG: Files with key 'obama_ref': 1\n",
      "DEBUG: Number of Frames is 1\n",
      "MoviePy - Writing audio in ./echo_db/records/trudeau_ref.wav\n"
     ]
    },
    {
     "name": "stderr",
     "output_type": "stream",
     "text": [
      "                                                        "
     ]
    },
    {
     "name": "stdout",
     "output_type": "stream",
     "text": [
      "MoviePy - Done.\n"
     ]
    },
    {
     "name": "stderr",
     "output_type": "stream",
     "text": [
      "\r"
     ]
    },
    {
     "name": "stdout",
     "output_type": "stream",
     "text": [
      "MoviePy - Writing audio in ./echo_db/records/trudeau_ref.wav\n"
     ]
    },
    {
     "name": "stderr",
     "output_type": "stream",
     "text": [
      "                                                        "
     ]
    },
    {
     "name": "stdout",
     "output_type": "stream",
     "text": [
      "MoviePy - Done.\n"
     ]
    },
    {
     "name": "stderr",
     "output_type": "stream",
     "text": [
      "\r"
     ]
    },
    {
     "name": "stdout",
     "output_type": "stream",
     "text": [
      "DEBUG: Inserting file data: {'key': 'trudeau_ref', 'path': '/Users/itaykozlov/Projects/echo-charlie/echo_db/records/trudeau_ref.wav', 'duration': 9.74, 'samplerate': 44100, 'channels': 2, 'md5': '02ccc8513acbe8d91cdbc219a4aab70f', 'created_at': 1761458581.3078861}\n",
      "✓ Inserted file: trudeau_ref\n",
      "DEBUG: Files with key 'trudeau_ref': 1\n",
      "DEBUG: Number of Frames is 1\n",
      "MoviePy - Writing audio in ./echo_db/records/macron_ref.wav\n"
     ]
    },
    {
     "name": "stderr",
     "output_type": "stream",
     "text": [
      "                                                        "
     ]
    },
    {
     "name": "stdout",
     "output_type": "stream",
     "text": [
      "MoviePy - Done.\n"
     ]
    },
    {
     "name": "stderr",
     "output_type": "stream",
     "text": [
      "\r"
     ]
    },
    {
     "name": "stdout",
     "output_type": "stream",
     "text": [
      "MoviePy - Writing audio in ./echo_db/records/macron_ref.wav\n"
     ]
    },
    {
     "name": "stderr",
     "output_type": "stream",
     "text": [
      "                                                        "
     ]
    },
    {
     "name": "stdout",
     "output_type": "stream",
     "text": [
      "MoviePy - Done.\n"
     ]
    },
    {
     "name": "stderr",
     "output_type": "stream",
     "text": [
      "\r"
     ]
    },
    {
     "name": "stdout",
     "output_type": "stream",
     "text": [
      "DEBUG: Inserting file data: {'key': 'macron_ref', 'path': '/Users/itaykozlov/Projects/echo-charlie/echo_db/records/macron_ref.wav', 'duration': 8.539977324263038, 'samplerate': 44100, 'channels': 2, 'md5': '75892d09d8e262cca09d7c5b9cd93a9d', 'created_at': 1761458582.930677}\n",
      "✓ Inserted file: macron_ref\n",
      "DEBUG: Files with key 'macron_ref': 1\n",
      "DEBUG: Number of Frames is 1\n",
      "MoviePy - Writing audio in ./echo_db/records/trump_ref.wav\n"
     ]
    },
    {
     "name": "stderr",
     "output_type": "stream",
     "text": [
      "                                                        "
     ]
    },
    {
     "name": "stdout",
     "output_type": "stream",
     "text": [
      "MoviePy - Done.\n"
     ]
    },
    {
     "name": "stderr",
     "output_type": "stream",
     "text": [
      "\r"
     ]
    },
    {
     "name": "stdout",
     "output_type": "stream",
     "text": [
      "MoviePy - Writing audio in ./echo_db/records/trump_ref.wav\n"
     ]
    },
    {
     "name": "stderr",
     "output_type": "stream",
     "text": [
      "                                                        "
     ]
    },
    {
     "name": "stdout",
     "output_type": "stream",
     "text": [
      "MoviePy - Done.\n"
     ]
    },
    {
     "name": "stderr",
     "output_type": "stream",
     "text": [
      "\r"
     ]
    },
    {
     "name": "stdout",
     "output_type": "stream",
     "text": [
      "DEBUG: Inserting file data: {'key': 'trump_ref', 'path': '/Users/itaykozlov/Projects/echo-charlie/echo_db/records/trump_ref.wav', 'duration': 10.88, 'samplerate': 44100, 'channels': 2, 'md5': '38f91dda44f18fd58db785e4c8057e4c', 'created_at': 1761458593.152501}\n",
      "✓ Inserted file: trump_ref\n",
      "DEBUG: Files with key 'trump_ref': 1\n"
     ]
    }
   ],
   "source": [
    "for video_name_type in video_names_types:\n",
    "    echo_db.push_video(video_path = f\"{video_dir}/{video_name_type['name']}.{video_name_type['type']}\", n_frames = 1)"
   ]
  },
  {
   "cell_type": "code",
   "execution_count": 6,
   "id": "4c7d68f9",
   "metadata": {},
   "outputs": [
    {
     "name": "stdout",
     "output_type": "stream",
     "text": [
      "\n",
      "📊 Audio Database Contents\n",
      "\n",
      "  Database path: /Users/itaykozlov/Projects/echo-charlie/echo_db/audio.db\n",
      "  Key: obama_ref\n",
      "  Path: /Users/itaykozlov/Projects/echo-charlie/echo_db/records/obama_ref.wav\n",
      "  Duration: 12.11s\n",
      "  Sample Rate: 44100 Hz\n",
      "  Channels: 2\n",
      "  MD5: bdbb607b6e174909acadb5a4e581eed1\n",
      "  Tags: (none)\n",
      "\n",
      "  Key: trudeau_ref\n",
      "  Path: /Users/itaykozlov/Projects/echo-charlie/echo_db/records/trudeau_ref.wav\n",
      "  Duration: 9.74s\n",
      "  Sample Rate: 44100 Hz\n",
      "  Channels: 2\n",
      "  MD5: 02ccc8513acbe8d91cdbc219a4aab70f\n",
      "  Tags: (none)\n",
      "\n",
      "  Key: macron_ref\n",
      "  Path: /Users/itaykozlov/Projects/echo-charlie/echo_db/records/macron_ref.wav\n",
      "  Duration: 8.54s\n",
      "  Sample Rate: 44100 Hz\n",
      "  Channels: 2\n",
      "  MD5: 75892d09d8e262cca09d7c5b9cd93a9d\n",
      "  Tags: (none)\n",
      "\n",
      "  Key: trump_ref\n",
      "  Path: /Users/itaykozlov/Projects/echo-charlie/echo_db/records/trump_ref.wav\n",
      "  Duration: 10.88s\n",
      "  Sample Rate: 44100 Hz\n",
      "  Channels: 2\n",
      "  MD5: 38f91dda44f18fd58db785e4c8057e4c\n",
      "  Tags: (none)\n",
      "\n"
     ]
    }
   ],
   "source": [
    "echo_db.show_audio_db()"
   ]
  },
  {
   "cell_type": "code",
   "execution_count": 7,
   "id": "4dd5b539",
   "metadata": {},
   "outputs": [
    {
     "data": {
      "text/plain": [
       "[[{'key': 'trudeau_ref',\n",
       "   'path': '/Users/itaykozlov/Projects/echo-charlie/echo_db/records/trudeau_ref.wav',\n",
       "   'duration': 9.74,\n",
       "   'samplerate': 44100,\n",
       "   'channels': 2,\n",
       "   'md5': '02ccc8513acbe8d91cdbc219a4aab70f',\n",
       "   'created_at': 1761458581.3078861}]]"
      ]
     },
     "execution_count": 7,
     "metadata": {},
     "output_type": "execute_result"
    }
   ],
   "source": [
    "import pickle\n",
    "\n",
    "with open(\"data/embeddings/trudeau_2.pkl\", 'rb') as file: \n",
    "    embed = pickle.load(file)\n",
    "\n",
    "echo_db.get_audio_from_embedding(embed)"
   ]
  },
  {
   "cell_type": "code",
   "execution_count": 8,
   "id": "4073a7f3",
   "metadata": {},
   "outputs": [
    {
     "name": "stdout",
     "output_type": "stream",
     "text": [
      "DEBUG: Number of Frames is 1\n"
     ]
    },
    {
     "data": {
      "text/plain": [
       "[[{'key': 'obama_ref',\n",
       "   'path': '/Users/itaykozlov/Projects/echo-charlie/echo_db/records/obama_ref.wav',\n",
       "   'duration': 12.11,\n",
       "   'samplerate': 44100,\n",
       "   'channels': 2,\n",
       "   'md5': 'bdbb607b6e174909acadb5a4e581eed1',\n",
       "   'created_at': 1761458579.781486}]]"
      ]
     },
     "execution_count": 8,
     "metadata": {},
     "output_type": "execute_result"
    }
   ],
   "source": [
    "from EchoCharlie.echo_frame import GetFrame \n",
    "\n",
    "gf = GetFrame()\n",
    "embed, _, _ = gf.forward(\"/Users/itaykozlov/Projects/echo-charlie/data/videos/obama_3_one_word_error.mp4\")\n",
    "\n",
    "echo_db.get_audio_from_embedding(embed)"
   ]
  },
  {
   "cell_type": "code",
   "execution_count": 9,
   "id": "54603653",
   "metadata": {},
   "outputs": [
    {
     "name": "stdout",
     "output_type": "stream",
     "text": [
      "🗑️  Clearing vector database...\n",
      "  Removing 4 embeddings from vector database\n",
      "  ✓ Vector database cleared\n",
      "🗑️  Clearing audio database...\n",
      "  Removing 4 file records and 0 tag records\n",
      "    Deleted file: /Users/itaykozlov/Projects/echo-charlie/echo_db/records/obama_ref.wav\n",
      "    Deleted file: /Users/itaykozlov/Projects/echo-charlie/echo_db/records/trudeau_ref.wav\n",
      "    Deleted file: /Users/itaykozlov/Projects/echo-charlie/echo_db/records/macron_ref.wav\n",
      "    Deleted file: /Users/itaykozlov/Projects/echo-charlie/echo_db/records/trump_ref.wav\n",
      "  ✓ Audio database cleared\n",
      "🎉 Database clearing completed successfully!\n"
     ]
    }
   ],
   "source": [
    "echo_db.clear_db()"
   ]
  },
  {
   "cell_type": "code",
   "execution_count": 10,
   "id": "9d74758a",
   "metadata": {},
   "outputs": [
    {
     "name": "stdout",
     "output_type": "stream",
     "text": [
      "DEBUG: Number of Frames is 1\n",
      "‼️ No keys found!\n"
     ]
    },
    {
     "data": {
      "text/plain": [
       "[]"
      ]
     },
     "execution_count": 10,
     "metadata": {},
     "output_type": "execute_result"
    }
   ],
   "source": [
    "from EchoCharlie.echo_frame import GetFrame \n",
    "\n",
    "gf = GetFrame()\n",
    "embed, _, _ = gf.forward(\"/Users/itaykozlov/Projects/echo-charlie/data/videos/obama_3_one_word_error.mp4\")\n",
    "\n",
    "echo_db.get_audio_from_embedding(embed)"
   ]
  },
  {
   "cell_type": "code",
   "execution_count": 11,
   "id": "eed2b27b",
   "metadata": {},
   "outputs": [
    {
     "name": "stdout",
     "output_type": "stream",
     "text": [
      "DEBUG: Number of Frames is 1\n",
      "MoviePy - Writing audio in ./echo_db/records/obama_3_one_word_error.wav\n"
     ]
    },
    {
     "name": "stderr",
     "output_type": "stream",
     "text": [
      "                                                        "
     ]
    },
    {
     "name": "stdout",
     "output_type": "stream",
     "text": [
      "MoviePy - Done.\n"
     ]
    },
    {
     "name": "stderr",
     "output_type": "stream",
     "text": [
      "\r"
     ]
    },
    {
     "name": "stdout",
     "output_type": "stream",
     "text": [
      "MoviePy - Writing audio in ./echo_db/records/obama_3_one_word_error.wav\n"
     ]
    },
    {
     "name": "stderr",
     "output_type": "stream",
     "text": [
      "                                                        "
     ]
    },
    {
     "name": "stdout",
     "output_type": "stream",
     "text": [
      "MoviePy - Done.\n"
     ]
    },
    {
     "name": "stderr",
     "output_type": "stream",
     "text": [
      "\r"
     ]
    },
    {
     "name": "stdout",
     "output_type": "stream",
     "text": [
      "DEBUG: Inserting file data: {'key': 'obama_3_one_word_error', 'path': '/Users/itaykozlov/Projects/echo-charlie/echo_db/records/obama_3_one_word_error.wav', 'duration': 9.28, 'samplerate': 44100, 'channels': 2, 'md5': 'b97bfe18258024039222c57bebc5337e', 'created_at': 1761458595.795485}\n",
      "✓ Inserted file: obama_3_one_word_error\n",
      "DEBUG: Files with key 'obama_3_one_word_error': 1\n"
     ]
    }
   ],
   "source": [
    "echo_db.push_video(\"/Users/itaykozlov/Projects/echo-charlie/data/videos/obama_3_one_word_error.mp4\")"
   ]
  },
  {
   "cell_type": "code",
   "execution_count": 17,
   "id": "770b47f0",
   "metadata": {},
   "outputs": [
    {
     "name": "stdout",
     "output_type": "stream",
     "text": [
      "🗑️  Clearing vector database...\n",
      "  Removing 1 embeddings from vector database\n",
      "  ✓ Vector database cleared\n",
      "🗑️  Clearing audio database...\n",
      "  Removing 5 file records and 0 tag records\n",
      "    File not found, skipping: /Users/itaykozlov/Projects/echo-charlie/echo_db/records/obama_ref.wav\n",
      "    File not found, skipping: /Users/itaykozlov/Projects/echo-charlie/echo_db/records/trudeau_ref.wav\n",
      "    File not found, skipping: /Users/itaykozlov/Projects/echo-charlie/echo_db/records/macron_ref.wav\n",
      "    File not found, skipping: /Users/itaykozlov/Projects/echo-charlie/echo_db/records/trump_ref.wav\n",
      "    Deleted file: /Users/itaykozlov/Projects/echo-charlie/echo_db/records/obama_3_one_word_error.wav\n",
      "  ✓ Audio database cleared\n",
      "🎉 Database clearing completed successfully!\n"
     ]
    }
   ],
   "source": [
    "echo_db.clear_db()"
   ]
  },
  {
   "cell_type": "code",
   "execution_count": 19,
   "id": "fff386ea",
   "metadata": {},
   "outputs": [
    {
     "name": "stdout",
     "output_type": "stream",
     "text": [
      "DEBUG: Number of Frames is 1\n",
      "MoviePy - Writing audio in ./echo_db/records/obama_3_one_word_error.wav\n"
     ]
    },
    {
     "name": "stderr",
     "output_type": "stream",
     "text": [
      "                                                        "
     ]
    },
    {
     "name": "stdout",
     "output_type": "stream",
     "text": [
      "MoviePy - Done.\n"
     ]
    },
    {
     "name": "stderr",
     "output_type": "stream",
     "text": [
      "\r"
     ]
    },
    {
     "name": "stdout",
     "output_type": "stream",
     "text": [
      "MoviePy - Writing audio in ./echo_db/records/obama_3_one_word_error.wav\n"
     ]
    },
    {
     "name": "stderr",
     "output_type": "stream",
     "text": [
      "                                                        "
     ]
    },
    {
     "name": "stdout",
     "output_type": "stream",
     "text": [
      "MoviePy - Done.\n"
     ]
    },
    {
     "name": "stderr",
     "output_type": "stream",
     "text": [
      "\r"
     ]
    },
    {
     "name": "stdout",
     "output_type": "stream",
     "text": [
      "DEBUG: Inserting file data: {'key': 'obama_3_one_word_error', 'path': '/Users/itaykozlov/Projects/echo-charlie/echo_db/records/obama_3_one_word_error.wav', 'duration': 9.28, 'samplerate': 44100, 'channels': 2, 'md5': 'b97bfe18258024039222c57bebc5337e', 'created_at': 1761458629.803072}\n",
      "✓ Inserted file: obama_3_one_word_error\n",
      "DEBUG: Files with key 'obama_3_one_word_error': 1\n"
     ]
    }
   ],
   "source": [
    "echo_db.push_video(\"/Users/itaykozlov/Projects/echo-charlie/data/videos/obama_3_one_word_error.mp4\")"
   ]
  },
  {
   "cell_type": "code",
   "execution_count": 20,
   "id": "f2bd2b80",
   "metadata": {},
   "outputs": [
    {
     "name": "stdout",
     "output_type": "stream",
     "text": [
      "DEBUG: Number of Frames is 1\n"
     ]
    },
    {
     "data": {
      "text/plain": [
       "[[{'key': 'obama_3_one_word_error',\n",
       "   'path': '/Users/itaykozlov/Projects/echo-charlie/echo_db/records/obama_3_one_word_error.wav',\n",
       "   'duration': 9.28,\n",
       "   'samplerate': 44100,\n",
       "   'channels': 2,\n",
       "   'md5': 'b97bfe18258024039222c57bebc5337e',\n",
       "   'created_at': 1761458629.803072}]]"
      ]
     },
     "execution_count": 20,
     "metadata": {},
     "output_type": "execute_result"
    }
   ],
   "source": [
    "from EchoCharlie.echo_frame import GetFrame \n",
    "\n",
    "gf = GetFrame()\n",
    "embed, _, _ = gf.forward(\"/Users/itaykozlov/Projects/echo-charlie/data/videos/obama_3_one_word_error.mp4\")\n",
    "\n",
    "echo_db.get_audio_from_embedding(embed)"
   ]
  },
  {
   "cell_type": "code",
   "execution_count": 21,
   "id": "ead34bf6",
   "metadata": {},
   "outputs": [
    {
     "name": "stdout",
     "output_type": "stream",
     "text": [
      "🗑️  Clearing vector database...\n",
      "  Removing 1 embeddings from vector database\n",
      "  ✓ Vector database cleared\n",
      "🗑️  Clearing audio database...\n",
      "  Removing 5 file records and 0 tag records\n",
      "    File not found, skipping: /Users/itaykozlov/Projects/echo-charlie/echo_db/records/obama_ref.wav\n",
      "    File not found, skipping: /Users/itaykozlov/Projects/echo-charlie/echo_db/records/trudeau_ref.wav\n",
      "    File not found, skipping: /Users/itaykozlov/Projects/echo-charlie/echo_db/records/macron_ref.wav\n",
      "    File not found, skipping: /Users/itaykozlov/Projects/echo-charlie/echo_db/records/trump_ref.wav\n",
      "    Deleted file: /Users/itaykozlov/Projects/echo-charlie/echo_db/records/obama_3_one_word_error.wav\n",
      "  ✓ Audio database cleared\n",
      "🎉 Database clearing completed successfully!\n"
     ]
    }
   ],
   "source": [
    "echo_db.clear_db()"
   ]
  }
 ],
 "metadata": {
  "kernelspec": {
   "display_name": "Python (echo-charlie)",
   "language": "python",
   "name": "echo-charlie"
  },
  "language_info": {
   "codemirror_mode": {
    "name": "ipython",
    "version": 3
   },
   "file_extension": ".py",
   "mimetype": "text/x-python",
   "name": "python",
   "nbconvert_exporter": "python",
   "pygments_lexer": "ipython3",
   "version": "3.11.7"
  }
 },
 "nbformat": 4,
 "nbformat_minor": 5
}

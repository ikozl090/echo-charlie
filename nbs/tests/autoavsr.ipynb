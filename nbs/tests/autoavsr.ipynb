{
  "cells": [
    {
      "cell_type": "markdown",
      "metadata": {
        "id": "89tk8KwgJIEX"
      },
      "source": [
        "# Auto-AVSR Tutorial\n",
        "**Authors**: [Pingchuan Ma](https://mpc001.github.io/), [Alexandros Haliassos](https://dblp.org/pid/257/3052.html), [Adriana Fernandez-Lopez](https://scholar.google.com/citations?user=DiVeQHkAAAAJ), [Honglie Chen](https://scholar.google.com/citations?user=HPwdvwEAAAAJ), [Stavros Petridis](https://ibug.doc.ic.ac.uk/people/spetridis), [Maja Pantic](https://ibug.doc.ic.ac.uk/people/mpantic).\n",
        "\n",
        "This tutorial shows how to use Auto-AVSR model to perform speech recognition (ASR, VSR, and AV-ASR), crop mouth ROIs or extract visual speech features.\n",
        "\n",
        "**Disclaimer**: Please note that both the VSR model and AV-ASR model have been trained with videos that were pre-processed by RetinaFace. For the purpose of improving inference speed, we use mediapipe instead."
      ]
    },
    {
      "cell_type": "code",
      "execution_count": 1,
      "metadata": {},
      "outputs": [],
      "source": [
        "from EchoCharlie.echo_vsr import VSRInferencePipeline"
      ]
    },
    {
      "cell_type": "code",
      "execution_count": 2,
      "metadata": {
        "id": "4l3pLd5YjyuZ"
      },
      "outputs": [
        {
          "name": "stderr",
          "output_type": "stream",
          "text": [
            "WARNING: All log messages before absl::InitializeLog() is called are written to STDERR\n",
            "I0000 00:00:1761417439.915185 22391094 gl_context.cc:357] GL version: 2.1 (2.1 Metal - 89.4), renderer: Apple M4 Max\n",
            "INFO: Created TensorFlow Lite XNNPACK delegate for CPU.\n",
            "W0000 00:00:1761417439.916112 22391292 inference_feedback_manager.cc:114] Feedback manager requires a model with a single signature inference. Disabling support for feedback tensors.\n",
            "I0000 00:00:1761417439.917193 22391094 gl_context.cc:357] GL version: 2.1 (2.1 Metal - 89.4), renderer: Apple M4 Max\n"
          ]
        }
      ],
      "source": [
        "modality = \"video\"\n",
        "model_conf = \"models/LRS3_V_WER19.1/model.json\"\n",
        "model_path = \"models/LRS3_V_WER19.1/model.pth\"\n",
        "\n",
        "pipeline = VSRInferencePipeline(modality, model_path, model_conf, face_track=True)"
      ]
    },
    {
      "cell_type": "code",
      "execution_count": 13,
      "metadata": {
        "id": "HeWC64v3k0au"
      },
      "outputs": [
        {
          "name": "stdout",
          "output_type": "stream",
          "text": [
            "WILL MAKE A DEAL ON I THINK EVERYTHING I THINK WE'RE GOING TO MAKE A DEAL ON SOYBEANS AND THE FARMERS I THINK WE'RE GOING TO MAKE A DEAL ON MAYBE EVEN NUCLEAR YOU KNOW PRESIDENT PUTIN HAS ALL MENTIONED TO ME ABOUT NUCLEAR WHERE WE DO A TEST COLLECTION HERE AND I'M FINE WITH THAT I THINK IT'S GOOD I THINK IT'S A VERY APPROPRIATE THING\n"
          ]
        }
      ],
      "source": [
        "transcript = pipeline(\"/Users/vishnou/Documents/echo-charlie/data/videos/trump_2.mp4\")\n",
        "print(transcript)"
      ]
    },
    {
      "cell_type": "code",
      "execution_count": null,
      "metadata": {},
      "outputs": [],
      "source": []
    }
  ],
  "metadata": {
    "accelerator": "GPU",
    "colab": {
      "provenance": []
    },
    "kernelspec": {
      "display_name": ".echo_charlie (3.11.14)",
      "language": "python",
      "name": "python3"
    },
    "language_info": {
      "codemirror_mode": {
        "name": "ipython",
        "version": 3
      },
      "file_extension": ".py",
      "mimetype": "text/x-python",
      "name": "python",
      "nbconvert_exporter": "python",
      "pygments_lexer": "ipython3",
      "version": "3.11.14"
    }
  },
  "nbformat": 4,
  "nbformat_minor": 0
}

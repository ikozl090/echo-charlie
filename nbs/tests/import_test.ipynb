{
 "cells": [
  {
   "cell_type": "code",
   "execution_count": 1,
   "id": "084ce662",
   "metadata": {},
   "outputs": [],
   "source": [
    "import os \n",
    "os.chdir('../..')"
   ]
  },
  {
   "cell_type": "code",
   "execution_count": 2,
   "id": "91e3d741",
   "metadata": {},
   "outputs": [],
   "source": [
    "import EchoCharlie "
   ]
  }
 ],
 "metadata": {
  "kernelspec": {
   "display_name": "EchoCharlie",
   "language": "python",
   "name": "echocharlie"
  },
  "language_info": {
   "codemirror_mode": {
    "name": "ipython",
    "version": 3
   },
   "file_extension": ".py",
   "mimetype": "text/x-python",
   "name": "python",
   "nbconvert_exporter": "python",
   "pygments_lexer": "ipython3",
   "version": "3.11.7"
  }
 },
 "nbformat": 4,
 "nbformat_minor": 5
}
